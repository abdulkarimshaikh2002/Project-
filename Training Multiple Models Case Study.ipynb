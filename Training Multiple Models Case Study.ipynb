{
 "cells": [
  {
   "cell_type": "code",
   "execution_count": 2,
   "id": "0d3de7cb",
   "metadata": {},
   "outputs": [],
   "source": [
    "import pandas as pd \n"
   ]
  },
  {
   "cell_type": "code",
   "execution_count": 3,
   "id": "4dcd0b29",
   "metadata": {},
   "outputs": [
    {
     "data": {
      "text/html": [
       "<div>\n",
       "<style scoped>\n",
       "    .dataframe tbody tr th:only-of-type {\n",
       "        vertical-align: middle;\n",
       "    }\n",
       "\n",
       "    .dataframe tbody tr th {\n",
       "        vertical-align: top;\n",
       "    }\n",
       "\n",
       "    .dataframe thead th {\n",
       "        text-align: right;\n",
       "    }\n",
       "</style>\n",
       "<table border=\"1\" class=\"dataframe\">\n",
       "  <thead>\n",
       "    <tr style=\"text-align: right;\">\n",
       "      <th></th>\n",
       "      <th>Transaction date</th>\n",
       "      <th>House age</th>\n",
       "      <th>Distance to the nearest MRT station</th>\n",
       "      <th>Number of convenience stores</th>\n",
       "      <th>Latitude</th>\n",
       "      <th>Longitude</th>\n",
       "      <th>House price of unit area</th>\n",
       "    </tr>\n",
       "  </thead>\n",
       "  <tbody>\n",
       "    <tr>\n",
       "      <th>0</th>\n",
       "      <td>2012-09-02 16:42:30.519336</td>\n",
       "      <td>13.3</td>\n",
       "      <td>4082.0150</td>\n",
       "      <td>8</td>\n",
       "      <td>25.007059</td>\n",
       "      <td>121.561694</td>\n",
       "      <td>6.488673</td>\n",
       "    </tr>\n",
       "    <tr>\n",
       "      <th>1</th>\n",
       "      <td>2012-09-04 22:52:29.919544</td>\n",
       "      <td>35.5</td>\n",
       "      <td>274.0144</td>\n",
       "      <td>2</td>\n",
       "      <td>25.012148</td>\n",
       "      <td>121.546990</td>\n",
       "      <td>24.970725</td>\n",
       "    </tr>\n",
       "    <tr>\n",
       "      <th>2</th>\n",
       "      <td>2012-09-05 01:10:52.349449</td>\n",
       "      <td>1.1</td>\n",
       "      <td>1978.6710</td>\n",
       "      <td>10</td>\n",
       "      <td>25.003850</td>\n",
       "      <td>121.528336</td>\n",
       "      <td>26.694267</td>\n",
       "    </tr>\n",
       "    <tr>\n",
       "      <th>3</th>\n",
       "      <td>2012-09-05 13:26:01.189083</td>\n",
       "      <td>22.2</td>\n",
       "      <td>1055.0670</td>\n",
       "      <td>5</td>\n",
       "      <td>24.962887</td>\n",
       "      <td>121.482178</td>\n",
       "      <td>38.091638</td>\n",
       "    </tr>\n",
       "    <tr>\n",
       "      <th>4</th>\n",
       "      <td>2012-09-06 08:29:47.910523</td>\n",
       "      <td>8.5</td>\n",
       "      <td>967.4000</td>\n",
       "      <td>6</td>\n",
       "      <td>25.011037</td>\n",
       "      <td>121.479946</td>\n",
       "      <td>21.654710</td>\n",
       "    </tr>\n",
       "    <tr>\n",
       "      <th>5</th>\n",
       "      <td>2012-09-06 14:18:34.142030</td>\n",
       "      <td>13.3</td>\n",
       "      <td>279.1726</td>\n",
       "      <td>2</td>\n",
       "      <td>24.994994</td>\n",
       "      <td>121.543823</td>\n",
       "      <td>36.972376</td>\n",
       "    </tr>\n",
       "    <tr>\n",
       "      <th>6</th>\n",
       "      <td>2012-09-06 15:07:23.396013</td>\n",
       "      <td>38.5</td>\n",
       "      <td>377.7956</td>\n",
       "      <td>3</td>\n",
       "      <td>25.009895</td>\n",
       "      <td>121.558955</td>\n",
       "      <td>27.637382</td>\n",
       "    </tr>\n",
       "    <tr>\n",
       "      <th>7</th>\n",
       "      <td>2012-09-07 07:57:25.291322</td>\n",
       "      <td>15.2</td>\n",
       "      <td>552.4371</td>\n",
       "      <td>5</td>\n",
       "      <td>24.997109</td>\n",
       "      <td>121.544377</td>\n",
       "      <td>44.116585</td>\n",
       "    </tr>\n",
       "    <tr>\n",
       "      <th>8</th>\n",
       "      <td>2012-09-07 10:06:48.384148</td>\n",
       "      <td>24.0</td>\n",
       "      <td>617.4424</td>\n",
       "      <td>3</td>\n",
       "      <td>24.987622</td>\n",
       "      <td>121.527841</td>\n",
       "      <td>49.071247</td>\n",
       "    </tr>\n",
       "    <tr>\n",
       "      <th>9</th>\n",
       "      <td>2012-09-07 13:21:33.254701</td>\n",
       "      <td>13.0</td>\n",
       "      <td>323.6550</td>\n",
       "      <td>8</td>\n",
       "      <td>24.978663</td>\n",
       "      <td>121.483457</td>\n",
       "      <td>43.114353</td>\n",
       "    </tr>\n",
       "  </tbody>\n",
       "</table>\n",
       "</div>"
      ],
      "text/plain": [
       "             Transaction date  House age  Distance to the nearest MRT station  \\\n",
       "0  2012-09-02 16:42:30.519336       13.3                            4082.0150   \n",
       "1  2012-09-04 22:52:29.919544       35.5                             274.0144   \n",
       "2  2012-09-05 01:10:52.349449        1.1                            1978.6710   \n",
       "3  2012-09-05 13:26:01.189083       22.2                            1055.0670   \n",
       "4  2012-09-06 08:29:47.910523        8.5                             967.4000   \n",
       "5  2012-09-06 14:18:34.142030       13.3                             279.1726   \n",
       "6  2012-09-06 15:07:23.396013       38.5                             377.7956   \n",
       "7  2012-09-07 07:57:25.291322       15.2                             552.4371   \n",
       "8  2012-09-07 10:06:48.384148       24.0                             617.4424   \n",
       "9  2012-09-07 13:21:33.254701       13.0                             323.6550   \n",
       "\n",
       "   Number of convenience stores   Latitude   Longitude  \\\n",
       "0                             8  25.007059  121.561694   \n",
       "1                             2  25.012148  121.546990   \n",
       "2                            10  25.003850  121.528336   \n",
       "3                             5  24.962887  121.482178   \n",
       "4                             6  25.011037  121.479946   \n",
       "5                             2  24.994994  121.543823   \n",
       "6                             3  25.009895  121.558955   \n",
       "7                             5  24.997109  121.544377   \n",
       "8                             3  24.987622  121.527841   \n",
       "9                             8  24.978663  121.483457   \n",
       "\n",
       "   House price of unit area  \n",
       "0                  6.488673  \n",
       "1                 24.970725  \n",
       "2                 26.694267  \n",
       "3                 38.091638  \n",
       "4                 21.654710  \n",
       "5                 36.972376  \n",
       "6                 27.637382  \n",
       "7                 44.116585  \n",
       "8                 49.071247  \n",
       "9                 43.114353  "
      ]
     },
     "execution_count": 3,
     "metadata": {},
     "output_type": "execute_result"
    }
   ],
   "source": [
    "data = pd.read_csv(\"Real_Estate.csv\")\n",
    "data.head(10)"
   ]
  },
  {
   "cell_type": "code",
   "execution_count": 4,
   "id": "bdc20337",
   "metadata": {},
   "outputs": [
    {
     "name": "stdout",
     "output_type": "stream",
     "text": [
      "<class 'pandas.core.frame.DataFrame'>\n",
      "RangeIndex: 414 entries, 0 to 413\n",
      "Data columns (total 7 columns):\n",
      " #   Column                               Non-Null Count  Dtype  \n",
      "---  ------                               --------------  -----  \n",
      " 0   Transaction date                     414 non-null    object \n",
      " 1   House age                            414 non-null    float64\n",
      " 2   Distance to the nearest MRT station  414 non-null    float64\n",
      " 3   Number of convenience stores         414 non-null    int64  \n",
      " 4   Latitude                             414 non-null    float64\n",
      " 5   Longitude                            414 non-null    float64\n",
      " 6   House price of unit area             414 non-null    float64\n",
      "dtypes: float64(5), int64(1), object(1)\n",
      "memory usage: 22.8+ KB\n"
     ]
    }
   ],
   "source": [
    "data.info()"
   ]
  },
  {
   "cell_type": "code",
   "execution_count": 6,
   "id": "b59bc945",
   "metadata": {},
   "outputs": [],
   "source": [
    "from sklearn.model_selection import train_test_split\n",
    "from sklearn.preprocessing import StandardScaler\n",
    "import datetime\n",
    "\n"
   ]
  },
  {
   "cell_type": "code",
   "execution_count": 8,
   "id": "c2678787",
   "metadata": {},
   "outputs": [],
   "source": [
    "data[\"Transaction date\"] = pd.to_datetime(data[\"Transaction date\"])\n",
    "data[\"Transaction year\"] = data[\"Transaction date\"].dt.year\n",
    "data[\"Transaction month\"] = data[\"Transaction date\"].dt.month\n"
   ]
  },
  {
   "cell_type": "code",
   "execution_count": 10,
   "id": "6be9ecc4",
   "metadata": {},
   "outputs": [],
   "source": [
    "data = data.drop(columns = [\"Transaction date\"])"
   ]
  },
  {
   "cell_type": "code",
   "execution_count": 11,
   "id": "3a667da8",
   "metadata": {},
   "outputs": [],
   "source": [
    "X = data.drop(\"House price of unit area\",axis = 1)\n",
    "y = data[\"House price of unit area\"]"
   ]
  },
  {
   "cell_type": "code",
   "execution_count": 12,
   "id": "a462a7cd",
   "metadata": {},
   "outputs": [],
   "source": [
    "X_train,X_test,y_train,y_test = train_test_split(X,y,test_size = 0.2,random_state = 42)\n",
    "\n",
    "scaler =StandardScaler()\n",
    "X_train_scaled =scaler.fit_transform(X_train)\n",
    "X_test_scaled = scaler.transform(X_test)"
   ]
  },
  {
   "cell_type": "code",
   "execution_count": 13,
   "id": "36890b03",
   "metadata": {},
   "outputs": [
    {
     "data": {
      "text/plain": [
       "(331, 7)"
      ]
     },
     "execution_count": 13,
     "metadata": {},
     "output_type": "execute_result"
    }
   ],
   "source": [
    "X_train_scaled.shape"
   ]
  },
  {
   "cell_type": "code",
   "execution_count": 14,
   "id": "82fbbe79",
   "metadata": {},
   "outputs": [
    {
     "data": {
      "text/plain": [
       "(83, 7)"
      ]
     },
     "execution_count": 14,
     "metadata": {},
     "output_type": "execute_result"
    }
   ],
   "source": [
    "X_test_scaled.shape"
   ]
  },
  {
   "cell_type": "code",
   "execution_count": 15,
   "id": "8cc8a0e3",
   "metadata": {},
   "outputs": [],
   "source": [
    "from sklearn.linear_model import LinearRegression\n",
    "from sklearn.tree import DecisionTreeRegressor\n",
    "from sklearn.ensemble import RandomForestRegressor ,GradientBoostingRegressor\n",
    "from sklearn.metrics import mean_absolute_error ,r2_score\n"
   ]
  },
  {
   "cell_type": "code",
   "execution_count": 19,
   "id": "46517b92",
   "metadata": {},
   "outputs": [
    {
     "name": "stdout",
     "output_type": "stream",
     "text": [
      "                         MAE        R²\n",
      "Linear Regression   9.518530  0.549566\n",
      "Decision Tree      11.415789  0.176253\n",
      "Random Forest       9.804854  0.522600\n",
      "Gradient Boosting  10.088533  0.475219\n"
     ]
    }
   ],
   "source": [
    "models = {\n",
    "    \"Linear Regression\": LinearRegression(),\n",
    "    \"Decision Tree\" : DecisionTreeRegressor(random_state =42),\n",
    "    \"Random Forest\" : RandomForestRegressor(random_state = 42),\n",
    "    \"Gradient Boosting\" :GradientBoostingRegressor(random_state =42)\n",
    "}\n",
    "\n",
    "results ={}\n",
    "\n",
    "for name , model in models.items():\n",
    "    model.fit(X_train_scaled,y_train)\n",
    "    \n",
    "    predictions = model.predict(X_test_scaled)\n",
    "    mae = mean_absolute_error(y_test,predictions)\n",
    "    r2 = r2_score(y_test,predictions)\n",
    "    \n",
    "    results[name] = {\"MAE\":mae,\"R²\" :r2}\n",
    "    \n",
    "results_df = pd.DataFrame(results).T\n",
    "print(results_df)"
   ]
  },
  {
   "cell_type": "code",
   "execution_count": null,
   "id": "6238989e",
   "metadata": {},
   "outputs": [],
   "source": []
  }
 ],
 "metadata": {
  "kernelspec": {
   "display_name": "Python 3 (ipykernel)",
   "language": "python",
   "name": "python3"
  },
  "language_info": {
   "codemirror_mode": {
    "name": "ipython",
    "version": 3
   },
   "file_extension": ".py",
   "mimetype": "text/x-python",
   "name": "python",
   "nbconvert_exporter": "python",
   "pygments_lexer": "ipython3",
   "version": "3.11.5"
  }
 },
 "nbformat": 4,
 "nbformat_minor": 5
}
